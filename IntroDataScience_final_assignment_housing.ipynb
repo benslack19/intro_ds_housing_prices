{
 "cells": [
  {
   "cell_type": "markdown",
   "metadata": {},
   "source": [
    "---\n",
    "\n",
    "_You are currently looking at **version 1.1** of this notebook. To download notebooks and datafiles, as well as get help on Jupyter notebooks in the Coursera platform, visit the [Jupyter Notebook FAQ](https://www.coursera.org/learn/python-data-analysis/resources/0dhYG) course resource._\n",
    "\n",
    "---"
   ]
  },
  {
   "cell_type": "markdown",
   "metadata": {},
   "source": [
    "# Assignment 4 - Hypothesis Testing\n",
    "This assignment requires more individual learning than previous assignments - you are encouraged to check out the [pandas documentation](http://pandas.pydata.org/pandas-docs/stable/) to find functions or methods you might not have used yet, or ask questions on [Stack Overflow](http://stackoverflow.com/) and tag them as pandas and python related. And of course, the discussion forums are open for interaction with your peers and the course staff.\n",
    "\n",
    "Definitions:\n",
    "* A _quarter_ is a specific three month period, Q1 is January through March, Q2 is April through June, Q3 is July through September, Q4 is October through December.\n",
    "* A _recession_ is defined as starting with two consecutive quarters of GDP decline, and ending with two consecutive quarters of GDP growth.\n",
    "* A _recession bottom_ is the quarter within a recession which had the lowest GDP.\n",
    "* A _university town_ is a city which has a high percentage of university students compared to the total population of the city.\n",
    "\n",
    "**Hypothesis**: University towns have their mean housing prices less effected by recessions. Run a t-test to compare the ratio of the mean price of houses in university towns the quarter before the recession starts compared to the recession bottom. (`price_ratio=quarter_before_recession/recession_bottom`)\n",
    "\n",
    "The following data files are available for this assignment:\n",
    "* From the [Zillow research data site](http://www.zillow.com/research/data/) there is housing data for the United States. In particular the datafile for [all homes at a city level](http://files.zillowstatic.com/research/public/City/City_Zhvi_AllHomes.csv), ```City_Zhvi_AllHomes.csv```, has median home sale prices at a fine grained level.\n",
    "* From the Wikipedia page on college towns is a list of [university towns in the United States](https://en.wikipedia.org/wiki/List_of_college_towns#College_towns_in_the_United_States) which has been copy and pasted into the file ```university_towns.txt```.\n",
    "* From Bureau of Economic Analysis, US Department of Commerce, the [GDP over time](http://www.bea.gov/national/index.htm#gdp) of the United States in current dollars (use the chained value in 2009 dollars), in quarterly intervals, in the file ```gdplev.xls```. For this assignment, only look at GDP data from the first quarter of 2000 onward.\n",
    "\n",
    "Each function in this assignment below is worth 10%, with the exception of ```run_ttest()```, which is worth 50%."
   ]
  },
  {
   "cell_type": "code",
   "execution_count": 1,
   "metadata": {
    "collapsed": true
   },
   "outputs": [],
   "source": [
    "# Use this dictionary to map state names to two letter acronyms\n",
    "states = {'OH': 'Ohio', 'KY': 'Kentucky', 'AS': 'American Samoa', 'NV': 'Nevada', 'WY': 'Wyoming', 'NA': 'National', 'AL': 'Alabama', 'MD': 'Maryland', 'AK': 'Alaska', 'UT': 'Utah', 'OR': 'Oregon', 'MT': 'Montana', 'IL': 'Illinois', 'TN': 'Tennessee', 'DC': 'District of Columbia', 'VT': 'Vermont', 'ID': 'Idaho', 'AR': 'Arkansas', 'ME': 'Maine', 'WA': 'Washington', 'HI': 'Hawaii', 'WI': 'Wisconsin', 'MI': 'Michigan', 'IN': 'Indiana', 'NJ': 'New Jersey', 'AZ': 'Arizona', 'GU': 'Guam', 'MS': 'Mississippi', 'PR': 'Puerto Rico', 'NC': 'North Carolina', 'TX': 'Texas', 'SD': 'South Dakota', 'MP': 'Northern Mariana Islands', 'IA': 'Iowa', 'MO': 'Missouri', 'CT': 'Connecticut', 'WV': 'West Virginia', 'SC': 'South Carolina', 'LA': 'Louisiana', 'KS': 'Kansas', 'NY': 'New York', 'NE': 'Nebraska', 'OK': 'Oklahoma', 'FL': 'Florida', 'CA': 'California', 'CO': 'Colorado', 'PA': 'Pennsylvania', 'DE': 'Delaware', 'NM': 'New Mexico', 'RI': 'Rhode Island', 'MN': 'Minnesota', 'VI': 'Virgin Islands', 'NH': 'New Hampshire', 'MA': 'Massachusetts', 'GA': 'Georgia', 'ND': 'North Dakota', 'VA': 'Virginia'}"
   ]
  },
  {
   "cell_type": "code",
   "execution_count": 2,
   "metadata": {
    "collapsed": true
   },
   "outputs": [],
   "source": [
    "def get_list_of_university_towns():\n",
    "    '''Returns a DataFrame of towns and the states they are in from the \n",
    "    university_towns.txt list. The format of the DataFrame should be:\n",
    "    DataFrame( [ [\"Michigan\", \"Ann Arbor\"], [\"Michigan\", \"Yipsilanti\"] ], \n",
    "    columns=[\"State\", \"RegionName\"]  )\n",
    "\n",
    "    The following cleaning needs to be done:\n",
    "\n",
    "    1. For \"State\", removing characters from \"[\" to the end.\n",
    "    2. For \"RegionName\", when applicable, removing every character from \" (\" to the end.\n",
    "    3. Depending on how you read the data, you may need to remove newline character '\\n'. '''\n",
    "\n",
    "    import pandas as pd\n",
    "\n",
    "    file = 'university_towns.txt'\n",
    "    f = open(file)\n",
    "    \n",
    "    States = list()\n",
    "    Regions = list()\n",
    " \n",
    "    for line in f:\n",
    "        if 'edit' in line:\n",
    "            ind = line.index('[')\n",
    "            state = line[:ind]\n",
    "        else:\n",
    "            try:\n",
    "                ind = line.index('(')\n",
    "                region = line[:ind].strip()\n",
    "            except:\n",
    "                region = line.strip()\n",
    "            States.append(state)\n",
    "            Regions.append(region)\n",
    "    dfUT = pd.DataFrame()\n",
    "    dfUT['State'] = States\n",
    "    dfUT['RegionName'] = Regions\n",
    "    # dfUT.drop_duplicates()\n",
    "    return dfUT"
   ]
  },
  {
   "cell_type": "code",
   "execution_count": 3,
   "metadata": {
    "collapsed": true
   },
   "outputs": [],
   "source": [
    "def get_recession_start():\n",
    "    '''Returns the year and quarter of the recession start time as a \n",
    "    string value in a format such as 2005q3'''\n",
    "    import pandas as pd\n",
    "    dfA = pd.read_excel('gdplev.xls', skiprows=5)\n",
    "    dfB = dfA[['Unnamed: 4', 'GDP in billions of chained 2009 dollars.1']]  #, 'GDP in billions of chained 2009 dollars.1'\n",
    "    dfB.columns=['quarter', 'GDP chained 2009']\n",
    "    dfB['GDP chained 2009 prevQuarter'] = dfB['GDP chained 2009'].shift()\n",
    "    for i, name in enumerate(dfB['GDP chained 2009 prevQuarter']):    \n",
    "        if dfB.loc[i, 'GDP chained 2009 prevQuarter'] < dfB.loc[i, 'GDP chained 2009']:\n",
    "            dfB.loc[i, 'Qchange'] = 1\n",
    "        else: dfB.loc[i, 'Qchange'] = 0\n",
    "    dfB['Qchange']\n",
    "    dfC = dfB.copy().iloc[2:]\n",
    "    dfD = dfC.copy().loc[dfC.index >= 214,:]\n",
    "    dfD['followingQchange'] = dfD['Qchange'].shift(periods=-1)\n",
    "    return dfD[(dfD['Qchange']==0) & (dfD['followingQchange']==0)].iloc[0,:]['quarter']"
   ]
  },
  {
   "cell_type": "code",
   "execution_count": 4,
   "metadata": {
    "collapsed": true
   },
   "outputs": [],
   "source": [
    "def get_recession_end():\n",
    "    '''Returns the year and quarter of the recession end time as a \n",
    "    string value in a format such as 2005q3'''\n",
    "    import pandas as pd\n",
    "    dfA = pd.read_excel('gdplev.xls', skiprows=5)\n",
    "    dfB = dfA[['Unnamed: 4', 'GDP in billions of chained 2009 dollars.1']]  #, 'GDP in billions of chained 2009 dollars.1'\n",
    "    dfB.columns=['quarter', 'GDP chained 2009']\n",
    "    dfB['GDP chained 2009 prevQuarter'] = dfB['GDP chained 2009'].shift()\n",
    "    for i, name in enumerate(dfB['GDP chained 2009 prevQuarter']):    \n",
    "        if dfB.loc[i, 'GDP chained 2009 prevQuarter'] < dfB.loc[i, 'GDP chained 2009']:\n",
    "            dfB.loc[i, 'Qchange'] = 1\n",
    "        else: dfB.loc[i, 'Qchange'] = 0\n",
    "    dfB['Qchange']\n",
    "    dfC = dfB.copy().iloc[2:]\n",
    "    dfC.head()\n",
    "    dfD = dfC.copy().loc[dfC.index >= dfC[dfC['quarter']=='2008q3'].index.values[0], :]\n",
    "    dfD['followingQchange'] = dfD['Qchange'].shift(periods=-1)\n",
    "    return (dfD[(dfD['Qchange']==1) & (dfD['followingQchange']==1)].iloc[1,:]['quarter'])"
   ]
  },
  {
   "cell_type": "code",
   "execution_count": 5,
   "metadata": {
    "collapsed": true
   },
   "outputs": [],
   "source": [
    "def get_recession_bottom():\n",
    "    '''Returns the year and quarter of the recession bottom time as a \n",
    "    string value in a format such as 2005q3'''\n",
    "    import pandas as pd\n",
    "    dfA = pd.read_excel('gdplev.xls', skiprows=5)\n",
    "    dfB = dfA[['Unnamed: 4', 'GDP in billions of chained 2009 dollars.1']]  #, 'GDP in billions of chained 2009 dollars.1'\n",
    "    dfB.columns=['quarter', 'GDP chained 2009']\n",
    "    dfB['GDP chained 2009 prevQuarter'] = dfB['GDP chained 2009'].shift()\n",
    "    for i, name in enumerate(dfB['GDP chained 2009 prevQuarter']):    \n",
    "        if dfB.loc[i, 'GDP chained 2009 prevQuarter'] < dfB.loc[i, 'GDP chained 2009']:\n",
    "            dfB.loc[i, 'Qchange'] = 1\n",
    "        else: dfB.loc[i, 'Qchange'] = 0\n",
    "    dfB['Qchange']\n",
    "    dfC = dfB.copy().iloc[2:]\n",
    "    dfC.head()\n",
    "    dfD = dfC.copy().loc[dfC.index >= dfC[dfC['quarter']=='2008q3'].index.values[0], :]\n",
    "    dfE = dfD.set_index('quarter')\n",
    "    minGDP = dfE.loc[get_recession_start():get_recession_end(), 'GDP chained 2009'].min()\n",
    "    return dfE[dfE['GDP chained 2009']==minGDP].index.astype(str)[0]"
   ]
  },
  {
   "cell_type": "code",
   "execution_count": 6,
   "metadata": {
    "collapsed": true
   },
   "outputs": [],
   "source": [
    "def convert_housing_data_to_quarters():\n",
    "    '''Converts the housing data to quarters and returns it as mean \n",
    "    values in a dataframe. This dataframe should be a dataframe with\n",
    "    columns for 2000q1 through 2016q3, and should have a multi-index\n",
    "    in the shape of [\"State\",\"RegionName\"].\n",
    "    \n",
    "    Note: Quarters are defined in the assignment description, they are\n",
    "    not arbitrary three month periods.\n",
    "    \n",
    "    The resulting dataframe should have 67 columns, and 10,730 rows.\n",
    "    '''\n",
    "    import pandas as pd\n",
    "    import numpy as np\n",
    "\n",
    "    dfA = pd.read_csv('City_Zhvi_AllHomes.csv')\n",
    "    dfA.replace({'State':states}, inplace=True)\n",
    "    dfA.set_index(['State', 'RegionName'], inplace=True)\n",
    "    # make a dataframe in place, drop years from 1996-2000\n",
    "    columnsToDrop = dfA.loc[:, '1996-04':'1999-12'].columns.tolist()\n",
    "\n",
    "    # dataframe with remaining intro columns\n",
    "    dfA.drop(columnsToDrop, axis=1, inplace=True)\n",
    "\n",
    "    # convert 3 month periods to quarters by splicing the year (string.split)\n",
    "    years = list(range(2000, 2017))\n",
    "    months = list(range(1,13))\n",
    "\n",
    "    dfB = dfA.copy()\n",
    "    dfC = pd.DataFrame()\n",
    "    for year in years:\n",
    "        tempQ1 = []\n",
    "        tempQ2 = []\n",
    "        tempQ3 = []\n",
    "        tempQ4 = []\n",
    "        for month in months:   \n",
    "            if month <= 3:\n",
    "                tempQ1.append(str(year)+'-'+('{:02}'.format(month)))\n",
    "            elif (month >= 4 and month <= 6):\n",
    "                tempQ2.append(str(year)+'-'+('{:02}'.format(month)))\n",
    "            elif (month >= 7 and month <= 9):\n",
    "                tempQ3.append(str(year)+'-'+('{:02}'.format(month)))\n",
    "            elif month >= 10:\n",
    "                tempQ4.append(str(year)+'-'+('{:02}'.format(month)))        \n",
    "        yearQ1name = str(year)+'q1'\n",
    "        dfC[yearQ1name] = dfB[tempQ1].mean(axis=1)\n",
    "        # except: continue\n",
    "        yearQ2name = str(year)+'q2'\n",
    "        dfC[yearQ2name] = dfB[tempQ2].mean(axis=1)\n",
    "        # except: continue\n",
    "        yearQ3name = str(year)+'q3'\n",
    "        try: dfC[yearQ3name] = dfB[tempQ3].mean(axis=1)\n",
    "        except: dfC[yearQ3name] = dfB[tempQ3[:2]].mean(axis=1)\n",
    "        yearQ4name = str(year)+'q4'\n",
    "        try: dfC[yearQ4name] = dfB[tempQ4].mean(axis=1)\n",
    "        except: continue\n",
    "    return dfC"
   ]
  },
  {
   "cell_type": "code",
   "execution_count": 7,
   "metadata": {
    "collapsed": true
   },
   "outputs": [],
   "source": [
    "def run_ttest():\n",
    "    '''First creates new data showing the decline or growth of housing prices\n",
    "    between the recession start and the recession bottom. Then runs a ttest\n",
    "    comparing the university town values to the non-university towns values, \n",
    "    return whether the alternative hypothesis (that the two groups are the same)\n",
    "    is true or not as well as the p-value of the confidence. \n",
    "    \n",
    "    Return the tuple (different, p, better) where different=True if the t-test is\n",
    "    True at a p<0.01 (we reject the null hypothesis), or different=False if \n",
    "    otherwise (we cannot reject the null hypothesis). The variable p should\n",
    "    be equal to the exact p value returned from scipy.stats.ttest_ind(). The\n",
    "    value for better should be either \"university town\" or \"non-university town\"\n",
    "    depending on which has a lower mean price ratio (which is equivilent to a\n",
    "    reduced market loss).'''\n",
    "    import pandas as pd\n",
    "    import numpy as np\n",
    "    import scipy.stats as stats\n",
    "\n",
    "    dfUT = get_list_of_university_towns()\n",
    "    QrecStart = get_recession_start()\n",
    "    QrecEnd = get_recession_end()\n",
    "    QrecBtom = get_recession_bottom()\n",
    "    dfHD = convert_housing_data_to_quarters()\n",
    "\n",
    "    colList = dfHD.columns.tolist()\n",
    "    indexes = [n for n, x in enumerate(colList) if QrecStart in x]\n",
    "    Q_bfr_rec_start = colList[indexes[0]-1]\n",
    "    dfHD['PriceRatio'] = dfHD[Q_bfr_rec_start]/dfHD[QrecBtom]\n",
    "\n",
    "    dfUT.set_index(['State', 'RegionName'], inplace=True)\n",
    "    dfUT['UT']=1\n",
    "    dfMerge = pd.merge(dfHD, dfUT, how='left', left_index=True, right_index=True)\n",
    "    dfMerge2 = dfMerge.copy()\n",
    "    dfMerge2['UT'].fillna(value=0, inplace=True)\n",
    "    dfMerge3 = dfMerge2.loc[:, ['PriceRatio','UT']]\n",
    "\n",
    "    nonUniv = dfMerge3[dfMerge3['UT']==0]\n",
    "    Univ = dfMerge3[dfMerge3['UT']==1]\n",
    "\n",
    "    tResult = stats.ttest_ind(nonUniv['PriceRatio'], Univ['PriceRatio'], nan_policy='omit')\n",
    "    p = tResult.pvalue\n",
    "    different = p < 0.01\n",
    "    if nonUniv['PriceRatio'].mean() < Univ['PriceRatio'].mean():\n",
    "        better = 'non-university town'\n",
    "    else: better = 'university town'\n",
    "        \n",
    "    tupleAnswer = (different, p, better)\n",
    "    return tupleAnswer"
   ]
  }
 ],
 "metadata": {
  "coursera": {
   "course_slug": "python-data-analysis",
   "graded_item_id": "Il9Fx",
   "launcher_item_id": "TeDW0",
   "part_id": "WGlun"
  },
  "kernelspec": {
   "display_name": "Python 3",
   "language": "python",
   "name": "python3"
  },
  "language_info": {
   "codemirror_mode": {
    "name": "ipython",
    "version": 3
   },
   "file_extension": ".py",
   "mimetype": "text/x-python",
   "name": "python",
   "nbconvert_exporter": "python",
   "pygments_lexer": "ipython3",
   "version": "3.5.4"
  },
  "toc": {
   "nav_menu": {},
   "number_sections": true,
   "sideBar": true,
   "skip_h1_title": false,
   "toc_cell": false,
   "toc_position": {},
   "toc_section_display": "block",
   "toc_window_display": false
  },
  "varInspector": {
   "cols": {
    "lenName": 16,
    "lenType": 16,
    "lenVar": 40
   },
   "kernels_config": {
    "python": {
     "delete_cmd_postfix": "",
     "delete_cmd_prefix": "del ",
     "library": "var_list.py",
     "varRefreshCmd": "print(var_dic_list())"
    },
    "r": {
     "delete_cmd_postfix": ") ",
     "delete_cmd_prefix": "rm(",
     "library": "var_list.r",
     "varRefreshCmd": "cat(var_dic_list()) "
    }
   },
   "types_to_exclude": [
    "module",
    "function",
    "builtin_function_or_method",
    "instance",
    "_Feature"
   ],
   "window_display": false
  }
 },
 "nbformat": 4,
 "nbformat_minor": 1
}
